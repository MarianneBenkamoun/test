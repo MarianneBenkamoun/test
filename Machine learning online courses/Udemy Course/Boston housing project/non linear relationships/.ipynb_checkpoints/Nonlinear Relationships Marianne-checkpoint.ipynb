{
 "cells": [
  {
   "cell_type": "markdown",
   "metadata": {},
   "source": [
    "# Nonlinear Relationships"
   ]
  },
  {
   "cell_type": "code",
   "execution_count": 240,
   "metadata": {},
   "outputs": [],
   "source": [
    "import numpy as np\n",
    "import matplotlib.pyplot as plt\n",
    "import seaborn as sns\n",
    "sns.set_style('whitegrid')\n",
    "% matplotlib inline\n",
    "import pandas as pd"
   ]
  },
  {
   "cell_type": "code",
   "execution_count": 241,
   "metadata": {},
   "outputs": [],
   "source": [
    "df =pd.read_csv('../housing.data',delim_whitespace=True,header=None)\n"
   ]
  },
  {
   "cell_type": "code",
   "execution_count": 242,
   "metadata": {},
   "outputs": [],
   "source": [
    "col_names = ['CRIM','ZN','INDUS','CHAS','NOX','RM','AGE','DIS','RAD','TAX','PTRATIO','B','LSTAT','MEDV']\n",
    "df.columns = col_names\n",
    "X = df.loc[:,df.columns.isin(['LSTAT'])]\n",
    "y = df['MEDV'].values"
   ]
  },
  {
   "cell_type": "code",
   "execution_count": 179,
   "metadata": {},
   "outputs": [
    {
     "data": {
      "text/html": [
       "<div>\n",
       "<style scoped>\n",
       "    .dataframe tbody tr th:only-of-type {\n",
       "        vertical-align: middle;\n",
       "    }\n",
       "\n",
       "    .dataframe tbody tr th {\n",
       "        vertical-align: top;\n",
       "    }\n",
       "\n",
       "    .dataframe thead th {\n",
       "        text-align: right;\n",
       "    }\n",
       "</style>\n",
       "<table border=\"1\" class=\"dataframe\">\n",
       "  <thead>\n",
       "    <tr style=\"text-align: right;\">\n",
       "      <th></th>\n",
       "      <th>LSTAT</th>\n",
       "    </tr>\n",
       "  </thead>\n",
       "  <tbody>\n",
       "    <tr>\n",
       "      <th>0</th>\n",
       "      <td>4.98</td>\n",
       "    </tr>\n",
       "    <tr>\n",
       "      <th>1</th>\n",
       "      <td>9.14</td>\n",
       "    </tr>\n",
       "    <tr>\n",
       "      <th>2</th>\n",
       "      <td>4.03</td>\n",
       "    </tr>\n",
       "    <tr>\n",
       "      <th>3</th>\n",
       "      <td>2.94</td>\n",
       "    </tr>\n",
       "    <tr>\n",
       "      <th>4</th>\n",
       "      <td>5.33</td>\n",
       "    </tr>\n",
       "    <tr>\n",
       "      <th>5</th>\n",
       "      <td>5.21</td>\n",
       "    </tr>\n",
       "    <tr>\n",
       "      <th>6</th>\n",
       "      <td>12.43</td>\n",
       "    </tr>\n",
       "    <tr>\n",
       "      <th>7</th>\n",
       "      <td>19.15</td>\n",
       "    </tr>\n",
       "    <tr>\n",
       "      <th>8</th>\n",
       "      <td>29.93</td>\n",
       "    </tr>\n",
       "    <tr>\n",
       "      <th>9</th>\n",
       "      <td>17.10</td>\n",
       "    </tr>\n",
       "    <tr>\n",
       "      <th>10</th>\n",
       "      <td>20.45</td>\n",
       "    </tr>\n",
       "    <tr>\n",
       "      <th>11</th>\n",
       "      <td>13.27</td>\n",
       "    </tr>\n",
       "    <tr>\n",
       "      <th>12</th>\n",
       "      <td>15.71</td>\n",
       "    </tr>\n",
       "    <tr>\n",
       "      <th>13</th>\n",
       "      <td>8.26</td>\n",
       "    </tr>\n",
       "    <tr>\n",
       "      <th>14</th>\n",
       "      <td>10.26</td>\n",
       "    </tr>\n",
       "    <tr>\n",
       "      <th>15</th>\n",
       "      <td>8.47</td>\n",
       "    </tr>\n",
       "    <tr>\n",
       "      <th>16</th>\n",
       "      <td>6.58</td>\n",
       "    </tr>\n",
       "    <tr>\n",
       "      <th>17</th>\n",
       "      <td>14.67</td>\n",
       "    </tr>\n",
       "    <tr>\n",
       "      <th>18</th>\n",
       "      <td>11.69</td>\n",
       "    </tr>\n",
       "    <tr>\n",
       "      <th>19</th>\n",
       "      <td>11.28</td>\n",
       "    </tr>\n",
       "    <tr>\n",
       "      <th>20</th>\n",
       "      <td>21.02</td>\n",
       "    </tr>\n",
       "    <tr>\n",
       "      <th>21</th>\n",
       "      <td>13.83</td>\n",
       "    </tr>\n",
       "    <tr>\n",
       "      <th>22</th>\n",
       "      <td>18.72</td>\n",
       "    </tr>\n",
       "    <tr>\n",
       "      <th>23</th>\n",
       "      <td>19.88</td>\n",
       "    </tr>\n",
       "    <tr>\n",
       "      <th>24</th>\n",
       "      <td>16.30</td>\n",
       "    </tr>\n",
       "    <tr>\n",
       "      <th>25</th>\n",
       "      <td>16.51</td>\n",
       "    </tr>\n",
       "    <tr>\n",
       "      <th>26</th>\n",
       "      <td>14.81</td>\n",
       "    </tr>\n",
       "    <tr>\n",
       "      <th>27</th>\n",
       "      <td>17.28</td>\n",
       "    </tr>\n",
       "    <tr>\n",
       "      <th>28</th>\n",
       "      <td>12.80</td>\n",
       "    </tr>\n",
       "    <tr>\n",
       "      <th>29</th>\n",
       "      <td>11.98</td>\n",
       "    </tr>\n",
       "    <tr>\n",
       "      <th>...</th>\n",
       "      <td>...</td>\n",
       "    </tr>\n",
       "    <tr>\n",
       "      <th>476</th>\n",
       "      <td>18.68</td>\n",
       "    </tr>\n",
       "    <tr>\n",
       "      <th>477</th>\n",
       "      <td>24.91</td>\n",
       "    </tr>\n",
       "    <tr>\n",
       "      <th>478</th>\n",
       "      <td>18.03</td>\n",
       "    </tr>\n",
       "    <tr>\n",
       "      <th>479</th>\n",
       "      <td>13.11</td>\n",
       "    </tr>\n",
       "    <tr>\n",
       "      <th>480</th>\n",
       "      <td>10.74</td>\n",
       "    </tr>\n",
       "    <tr>\n",
       "      <th>481</th>\n",
       "      <td>7.74</td>\n",
       "    </tr>\n",
       "    <tr>\n",
       "      <th>482</th>\n",
       "      <td>7.01</td>\n",
       "    </tr>\n",
       "    <tr>\n",
       "      <th>483</th>\n",
       "      <td>10.42</td>\n",
       "    </tr>\n",
       "    <tr>\n",
       "      <th>484</th>\n",
       "      <td>13.34</td>\n",
       "    </tr>\n",
       "    <tr>\n",
       "      <th>485</th>\n",
       "      <td>10.58</td>\n",
       "    </tr>\n",
       "    <tr>\n",
       "      <th>486</th>\n",
       "      <td>14.98</td>\n",
       "    </tr>\n",
       "    <tr>\n",
       "      <th>487</th>\n",
       "      <td>11.45</td>\n",
       "    </tr>\n",
       "    <tr>\n",
       "      <th>488</th>\n",
       "      <td>18.06</td>\n",
       "    </tr>\n",
       "    <tr>\n",
       "      <th>489</th>\n",
       "      <td>23.97</td>\n",
       "    </tr>\n",
       "    <tr>\n",
       "      <th>490</th>\n",
       "      <td>29.68</td>\n",
       "    </tr>\n",
       "    <tr>\n",
       "      <th>491</th>\n",
       "      <td>18.07</td>\n",
       "    </tr>\n",
       "    <tr>\n",
       "      <th>492</th>\n",
       "      <td>13.35</td>\n",
       "    </tr>\n",
       "    <tr>\n",
       "      <th>493</th>\n",
       "      <td>12.01</td>\n",
       "    </tr>\n",
       "    <tr>\n",
       "      <th>494</th>\n",
       "      <td>13.59</td>\n",
       "    </tr>\n",
       "    <tr>\n",
       "      <th>495</th>\n",
       "      <td>17.60</td>\n",
       "    </tr>\n",
       "    <tr>\n",
       "      <th>496</th>\n",
       "      <td>21.14</td>\n",
       "    </tr>\n",
       "    <tr>\n",
       "      <th>497</th>\n",
       "      <td>14.10</td>\n",
       "    </tr>\n",
       "    <tr>\n",
       "      <th>498</th>\n",
       "      <td>12.92</td>\n",
       "    </tr>\n",
       "    <tr>\n",
       "      <th>499</th>\n",
       "      <td>15.10</td>\n",
       "    </tr>\n",
       "    <tr>\n",
       "      <th>500</th>\n",
       "      <td>14.33</td>\n",
       "    </tr>\n",
       "    <tr>\n",
       "      <th>501</th>\n",
       "      <td>9.67</td>\n",
       "    </tr>\n",
       "    <tr>\n",
       "      <th>502</th>\n",
       "      <td>9.08</td>\n",
       "    </tr>\n",
       "    <tr>\n",
       "      <th>503</th>\n",
       "      <td>5.64</td>\n",
       "    </tr>\n",
       "    <tr>\n",
       "      <th>504</th>\n",
       "      <td>6.48</td>\n",
       "    </tr>\n",
       "    <tr>\n",
       "      <th>505</th>\n",
       "      <td>7.88</td>\n",
       "    </tr>\n",
       "  </tbody>\n",
       "</table>\n",
       "<p>506 rows × 1 columns</p>\n",
       "</div>"
      ],
      "text/plain": [
       "     LSTAT\n",
       "0     4.98\n",
       "1     9.14\n",
       "2     4.03\n",
       "3     2.94\n",
       "4     5.33\n",
       "5     5.21\n",
       "6    12.43\n",
       "7    19.15\n",
       "8    29.93\n",
       "9    17.10\n",
       "10   20.45\n",
       "11   13.27\n",
       "12   15.71\n",
       "13    8.26\n",
       "14   10.26\n",
       "15    8.47\n",
       "16    6.58\n",
       "17   14.67\n",
       "18   11.69\n",
       "19   11.28\n",
       "20   21.02\n",
       "21   13.83\n",
       "22   18.72\n",
       "23   19.88\n",
       "24   16.30\n",
       "25   16.51\n",
       "26   14.81\n",
       "27   17.28\n",
       "28   12.80\n",
       "29   11.98\n",
       "..     ...\n",
       "476  18.68\n",
       "477  24.91\n",
       "478  18.03\n",
       "479  13.11\n",
       "480  10.74\n",
       "481   7.74\n",
       "482   7.01\n",
       "483  10.42\n",
       "484  13.34\n",
       "485  10.58\n",
       "486  14.98\n",
       "487  11.45\n",
       "488  18.06\n",
       "489  23.97\n",
       "490  29.68\n",
       "491  18.07\n",
       "492  13.35\n",
       "493  12.01\n",
       "494  13.59\n",
       "495  17.60\n",
       "496  21.14\n",
       "497  14.10\n",
       "498  12.92\n",
       "499  15.10\n",
       "500  14.33\n",
       "501   9.67\n",
       "502   9.08\n",
       "503   5.64\n",
       "504   6.48\n",
       "505   7.88\n",
       "\n",
       "[506 rows x 1 columns]"
      ]
     },
     "execution_count": 179,
     "metadata": {},
     "output_type": "execute_result"
    }
   ],
   "source": [
    "X"
   ]
  },
  {
   "cell_type": "markdown",
   "metadata": {},
   "source": [
    "## Brief Introduction to Decision Tree"
   ]
  },
  {
   "cell_type": "code",
   "execution_count": 180,
   "metadata": {},
   "outputs": [],
   "source": [
    "from sklearn.tree import DecisionTreeRegressor"
   ]
  },
  {
   "cell_type": "code",
   "execution_count": 181,
   "metadata": {},
   "outputs": [],
   "source": [
    "tree = DecisionTreeRegressor(max_depth=5)"
   ]
  },
  {
   "cell_type": "code",
   "execution_count": 182,
   "metadata": {},
   "outputs": [
    {
     "data": {
      "text/plain": [
       "DecisionTreeRegressor(criterion='mse', max_depth=5, max_features=None,\n",
       "           max_leaf_nodes=None, min_impurity_decrease=0.0,\n",
       "           min_impurity_split=None, min_samples_leaf=1,\n",
       "           min_samples_split=2, min_weight_fraction_leaf=0.0,\n",
       "           presort=False, random_state=None, splitter='best')"
      ]
     },
     "execution_count": 182,
     "metadata": {},
     "output_type": "execute_result"
    }
   ],
   "source": [
    "tree.fit(X, y)"
   ]
  },
  {
   "cell_type": "code",
   "execution_count": 183,
   "metadata": {},
   "outputs": [],
   "source": [
    "points = X.values.flatten().argsort()"
   ]
  },
  {
   "cell_type": "code",
   "execution_count": 184,
   "metadata": {},
   "outputs": [
    {
     "data": {
      "image/png": "[encoded data removed]",
      "text/plain": [
       "<matplotlib.figure.Figure at 0xc124908>"
      ]
     },
     "metadata": {},
     "output_type": "display_data"
    }
   ],
   "source": [
    "plt.figure(figsize=(10,8))\n",
    "plt.scatter(X.values[points], y[points])\n",
    "plt.plot(X.values[points], tree.predict(X.values[points]), color='k')\n",
    "\n",
    "plt.xlabel('LSTAT')\n",
    "plt.ylabel('MEDV');"
   ]
  },
  {
   "cell_type": "markdown",
   "metadata": {},
   "source": [
    "***"
   ]
  },
  {
   "cell_type": "markdown",
   "metadata": {},
   "source": [
    "Using `max_depth` of 5 led to overfitting. Let's try 2 instead."
   ]
  },
  {
   "cell_type": "code",
   "execution_count": 185,
   "metadata": {},
   "outputs": [
    {
     "data": {
      "image/png": "[encoded data removed]",
      "text/plain": [
       "<matplotlib.figure.Figure at 0xc1246d8>"
      ]
     },
     "metadata": {},
     "output_type": "display_data"
    }
   ],
   "source": [
    "tree = DecisionTreeRegressor(max_depth=2)\n",
    "tree.fit(X, y)\n",
    "sort_idx = X.values.flatten().argsort()\n",
    "plt.figure(figsize=(10,8))\n",
    "plt.scatter(X.values[sort_idx], y[sort_idx])\n",
    "plt.plot(X.values[sort_idx], tree.predict(X.values[sort_idx]), color='k')\n",
    "\n",
    "plt.xlabel('LSTAT')\n",
    "plt.ylabel('MEDV');"
   ]
  },
  {
   "cell_type": "markdown",
   "metadata": {},
   "source": [
    "# Brief Introduction to Random Forest"
   ]
  },
  {
   "cell_type": "code",
   "execution_count": 186,
   "metadata": {},
   "outputs": [],
   "source": [
    "from sklearn.model_selection import train_test_split\n",
    "from sklearn.metrics import mean_squared_error, r2_score"
   ]
  },
  {
   "cell_type": "code",
   "execution_count": 187,
   "metadata": {},
   "outputs": [],
   "source": [
    "X = df.loc[:,df.columns.isin(['CRIM','ZN','INDUS','CHAS','NOX','RM','AGE','DIS','RAD','TAX','PTRATIO','B','LSTAT'])]\n",
    "#y = df['MEDV'].values"
   ]
  },
  {
   "cell_type": "code",
   "execution_count": 188,
   "metadata": {},
   "outputs": [],
   "source": [
    "X_train, X_test, y_train, y_test = train_test_split(X, y, \n",
    "                                                    test_size=0.3, \n",
    "                                                    random_state=42)"
   ]
  },
  {
   "cell_type": "code",
   "execution_count": 189,
   "metadata": {},
   "outputs": [],
   "source": [
    "from sklearn.ensemble import RandomForestRegressor"
   ]
  },
  {
   "cell_type": "code",
   "execution_count": 190,
   "metadata": {},
   "outputs": [],
   "source": [
    "forest = RandomForestRegressor(n_estimators=500, criterion='mse', \n",
    "                               random_state=42, n_jobs=-1)"
   ]
  },
  {
   "cell_type": "code",
   "execution_count": 191,
   "metadata": {},
   "outputs": [
    {
     "data": {
      "text/plain": [
       "RandomForestRegressor(bootstrap=True, criterion='mse', max_depth=None,\n",
       "           max_features='auto', max_leaf_nodes=None,\n",
       "           min_impurity_decrease=0.0, min_impurity_split=None,\n",
       "           min_samples_leaf=1, min_samples_split=2,\n",
       "           min_weight_fraction_leaf=0.0, n_estimators=500, n_jobs=-1,\n",
       "           oob_score=False, random_state=42, verbose=0, warm_start=False)"
      ]
     },
     "execution_count": 191,
     "metadata": {},
     "output_type": "execute_result"
    }
   ],
   "source": [
    "forest.fit(X_train, y_train)"
   ]
  },
  {
   "cell_type": "code",
   "execution_count": 192,
   "metadata": {},
   "outputs": [],
   "source": [
    "y_train_pred = forest.predict(X_train)"
   ]
  },
  {
   "cell_type": "code",
   "execution_count": 193,
   "metadata": {},
   "outputs": [],
   "source": [
    "y_test_pred = forest.predict(X_test)"
   ]
  },
  {
   "cell_type": "code",
   "execution_count": 194,
   "metadata": {},
   "outputs": [
    {
     "name": "stdout",
     "output_type": "stream",
     "text": [
      "MSE train: 1.8700, test: 9.3921\n"
     ]
    }
   ],
   "source": [
    "print(\"MSE train: {0:.4f}, test: {1:.4f}\".\\\n",
    "      format(mean_squared_error(y_train, y_train_pred), \n",
    "             mean_squared_error(y_test, y_test_pred)))"
   ]
  },
  {
   "cell_type": "code",
   "execution_count": 195,
   "metadata": {},
   "outputs": [
    {
     "name": "stdout",
     "output_type": "stream",
     "text": [
      "R^2 train: 0.9787, test: 0.8740\n"
     ]
    }
   ],
   "source": [
    "print(\"R^2 train: {0:.4f}, test: {1:.4f}\".\\\n",
    "      format(r2_score(y_train, y_train_pred),\n",
    "             r2_score(y_test, y_test_pred)))"
   ]
  },
  {
   "cell_type": "markdown",
   "metadata": {},
   "source": [
    "# Brief Introduction to AdaBoost"
   ]
  },
  {
   "cell_type": "code",
   "execution_count": 196,
   "metadata": {},
   "outputs": [],
   "source": [
    "from sklearn.ensemble import AdaBoostRegressor"
   ]
  },
  {
   "cell_type": "code",
   "execution_count": 197,
   "metadata": {},
   "outputs": [],
   "source": [
    "ada = AdaBoostRegressor(DecisionTreeRegressor(max_depth=4), \n",
    "                        n_estimators=500, random_state=42)"
   ]
  },
  {
   "cell_type": "code",
   "execution_count": 198,
   "metadata": {},
   "outputs": [
    {
     "data": {
      "text/plain": [
       "AdaBoostRegressor(base_estimator=DecisionTreeRegressor(criterion='mse', max_depth=4, max_features=None,\n",
       "           max_leaf_nodes=None, min_impurity_decrease=0.0,\n",
       "           min_impurity_split=None, min_samples_leaf=1,\n",
       "           min_samples_split=2, min_weight_fraction_leaf=0.0,\n",
       "           presort=False, random_state=None, splitter='best'),\n",
       "         learning_rate=1.0, loss='linear', n_estimators=500,\n",
       "         random_state=42)"
      ]
     },
     "execution_count": 198,
     "metadata": {},
     "output_type": "execute_result"
    }
   ],
   "source": [
    "ada.fit(X_train, y_train)"
   ]
  },
  {
   "cell_type": "code",
   "execution_count": 199,
   "metadata": {},
   "outputs": [],
   "source": [
    "y_train_pred = ada.predict(X_train)"
   ]
  },
  {
   "cell_type": "code",
   "execution_count": 200,
   "metadata": {},
   "outputs": [],
   "source": [
    "y_test_pred = ada.predict(X_test)"
   ]
  },
  {
   "cell_type": "code",
   "execution_count": 201,
   "metadata": {},
   "outputs": [
    {
     "name": "stdout",
     "output_type": "stream",
     "text": [
      "MSE train: 4.6605, test: 13.4949\n"
     ]
    }
   ],
   "source": [
    "print(\"MSE train: {0:.4f}, test: {1:.4f}\".\\\n",
    "      format(mean_squared_error(y_train, y_train_pred), \n",
    "             mean_squared_error(y_test, y_test_pred)))"
   ]
  },
  {
   "cell_type": "code",
   "execution_count": 202,
   "metadata": {},
   "outputs": [
    {
     "name": "stdout",
     "output_type": "stream",
     "text": [
      "R^2 train: 0.9470, test: 0.8189\n"
     ]
    }
   ],
   "source": [
    "print(\"R^2 train: {0:.4f}, test: {1:.4f}\".\\\n",
    "      format(r2_score(y_train, y_train_pred),\n",
    "             r2_score(y_test, y_test_pred)))"
   ]
  },
  {
   "cell_type": "markdown",
   "metadata": {},
   "source": [
    "***"
   ]
  },
  {
   "cell_type": "markdown",
   "metadata": {},
   "source": [
    "# Revisiting Feature Importance"
   ]
  },
  {
   "cell_type": "code",
   "execution_count": 232,
   "metadata": {},
   "outputs": [
    {
     "data": {
      "text/plain": [
       "array([0.03104826, 0.00243815, 0.01083651, 0.00085548, 0.0371141 ,\n",
       "       0.23589575, 0.00958776, 0.13743614, 0.01893706, 0.02188852,\n",
       "       0.04185043, 0.02193283, 0.43017901])"
      ]
     },
     "execution_count": 232,
     "metadata": {},
     "output_type": "execute_result"
    }
   ],
   "source": [
    "ada.feature_importances_"
   ]
  },
  {
   "cell_type": "code",
   "execution_count": 234,
   "metadata": {},
   "outputs": [
    {
     "data": {
      "text/plain": [
       "Index(['CRIM', 'ZN', 'INDUS', 'CHAS', 'NOX', 'RM', 'AGE', 'DIS', 'RAD', 'TAX',\n",
       "       'PTRATIO', 'B', 'LSTAT'],\n",
       "      dtype='object')"
      ]
     },
     "execution_count": 234,
     "metadata": {},
     "output_type": "execute_result"
    }
   ],
   "source": [
    "X.columns"
   ]
  },
  {
   "cell_type": "code",
   "execution_count": 236,
   "metadata": {},
   "outputs": [],
   "source": [
    "result = pd.DataFrame(ada.feature_importances_, X.columns)\n",
    "result.columns = ['feature']"
   ]
  },
  {
   "cell_type": "code",
   "execution_count": 237,
   "metadata": {},
   "outputs": [
    {
     "data": {
      "text/html": [
       "<div>\n",
       "<style scoped>\n",
       "    .dataframe tbody tr th:only-of-type {\n",
       "        vertical-align: middle;\n",
       "    }\n",
       "\n",
       "    .dataframe tbody tr th {\n",
       "        vertical-align: top;\n",
       "    }\n",
       "\n",
       "    .dataframe thead th {\n",
       "        text-align: right;\n",
       "    }\n",
       "</style>\n",
       "<table border=\"1\" class=\"dataframe\">\n",
       "  <thead>\n",
       "    <tr style=\"text-align: right;\">\n",
       "      <th></th>\n",
       "      <th>feature</th>\n",
       "    </tr>\n",
       "  </thead>\n",
       "  <tbody>\n",
       "    <tr>\n",
       "      <th>LSTAT</th>\n",
       "      <td>0.430179</td>\n",
       "    </tr>\n",
       "    <tr>\n",
       "      <th>RM</th>\n",
       "      <td>0.235896</td>\n",
       "    </tr>\n",
       "    <tr>\n",
       "      <th>DIS</th>\n",
       "      <td>0.137436</td>\n",
       "    </tr>\n",
       "    <tr>\n",
       "      <th>PTRATIO</th>\n",
       "      <td>0.041850</td>\n",
       "    </tr>\n",
       "    <tr>\n",
       "      <th>NOX</th>\n",
       "      <td>0.037114</td>\n",
       "    </tr>\n",
       "    <tr>\n",
       "      <th>CRIM</th>\n",
       "      <td>0.031048</td>\n",
       "    </tr>\n",
       "    <tr>\n",
       "      <th>B</th>\n",
       "      <td>0.021933</td>\n",
       "    </tr>\n",
       "    <tr>\n",
       "      <th>TAX</th>\n",
       "      <td>0.021889</td>\n",
       "    </tr>\n",
       "    <tr>\n",
       "      <th>RAD</th>\n",
       "      <td>0.018937</td>\n",
       "    </tr>\n",
       "    <tr>\n",
       "      <th>INDUS</th>\n",
       "      <td>0.010837</td>\n",
       "    </tr>\n",
       "    <tr>\n",
       "      <th>AGE</th>\n",
       "      <td>0.009588</td>\n",
       "    </tr>\n",
       "    <tr>\n",
       "      <th>ZN</th>\n",
       "      <td>0.002438</td>\n",
       "    </tr>\n",
       "    <tr>\n",
       "      <th>CHAS</th>\n",
       "      <td>0.000855</td>\n",
       "    </tr>\n",
       "  </tbody>\n",
       "</table>\n",
       "</div>"
      ],
      "text/plain": [
       "          feature\n",
       "LSTAT    0.430179\n",
       "RM       0.235896\n",
       "DIS      0.137436\n",
       "PTRATIO  0.041850\n",
       "NOX      0.037114\n",
       "CRIM     0.031048\n",
       "B        0.021933\n",
       "TAX      0.021889\n",
       "RAD      0.018937\n",
       "INDUS    0.010837\n",
       "AGE      0.009588\n",
       "ZN       0.002438\n",
       "CHAS     0.000855"
      ]
     },
     "execution_count": 237,
     "metadata": {},
     "output_type": "execute_result"
    }
   ],
   "source": [
    "result.sort_values(by='feature', ascending=False)"
   ]
  },
  {
   "cell_type": "code",
   "execution_count": 238,
   "metadata": {
    "scrolled": false
   },
   "outputs": [
    {
     "data": {
      "image/png": "[encoded data removed]",
      "text/plain": [
       "<matplotlib.figure.Figure at 0xbc4c630>"
      ]
     },
     "metadata": {},
     "output_type": "display_data"
    }
   ],
   "source": [
    "result.sort_values(by='feature', ascending=False).plot(kind='bar');"
   ]
  },
  {
   "cell_type": "markdown",
   "metadata": {},
   "source": [
    "# Trying Decision tree on every feature  : unscaled\n",
    "\n"
   ]
  },
  {
   "cell_type": "code",
   "execution_count": 222,
   "metadata": {},
   "outputs": [],
   "source": [
    "tree = DecisionTreeRegressor(max_depth=3)\n",
    "tree.fit(X_train, y_train)\n",
    "y_train_pred = tree.predict(X_train)\n",
    "y_test_pred = tree.predict(X_test)"
   ]
  },
  {
   "cell_type": "code",
   "execution_count": 223,
   "metadata": {},
   "outputs": [
    {
     "name": "stdout",
     "output_type": "stream",
     "text": [
      "RMSE of the train set:15.367966101816164\n",
      "R2 SCORE of the train set:0.8251584424966963\n",
      "RMSE of the test set:19.107306539548826\n",
      "R2 SCORE of the test set:0.7435711616336519\n"
     ]
    }
   ],
   "source": [
    "print(f\"RMSE of the train set:{mean_squared_error(y_train,y_train_pred)}\")\n",
    "print(f\"R2 SCORE of the train set:{r2_score(y_train,y_train_pred)}\")\n",
    "print(f\"RMSE of the test set:{mean_squared_error(y_test,y_test_pred)}\")\n",
    "print(f\"R2 SCORE of the test set:{r2_score(y_test,y_test_pred)}\")"
   ]
  },
  {
   "cell_type": "markdown",
   "metadata": {},
   "source": [
    "# Trying Decision tree on every feature : robust scaled (gives better results)"
   ]
  },
  {
   "cell_type": "code",
   "execution_count": 224,
   "metadata": {},
   "outputs": [],
   "source": [
    "from sklearn.preprocessing import RobustScaler, StandardScaler\n"
   ]
  },
  {
   "cell_type": "code",
   "execution_count": 225,
   "metadata": {},
   "outputs": [],
   "source": [
    "scaler = RobustScaler()\n",
    "X_train_std = scaler.fit_transform(X_train)\n",
    "X_test_std = scaler.transform(X_test)\n",
    "tree = DecisionTreeRegressor(max_depth=3)\n",
    "tree.fit(X_train_std, y_train)\n",
    "y_train_pred = tree.predict(X_train_std)\n",
    "y_test_pred = tree.predict(X_test_std)"
   ]
  },
  {
   "cell_type": "code",
   "execution_count": 226,
   "metadata": {},
   "outputs": [
    {
     "name": "stdout",
     "output_type": "stream",
     "text": [
      "RMSE of the train set:15.367966101816167\n",
      "R2 SCORE of the train set:0.8251584424966962\n",
      "RMSE of the test set:16.92824407559127\n",
      "R2 SCORE of the test set:0.7728151817263731\n"
     ]
    }
   ],
   "source": [
    "print(f\"RMSE of the train set:{mean_squared_error(y_train,y_train_pred)}\")\n",
    "print(f\"R2 SCORE of the train set:{r2_score(y_train,y_train_pred)}\")\n",
    "print(f\"RMSE of the test set:{mean_squared_error(y_test,y_test_pred)}\")\n",
    "print(f\"R2 SCORE of the test set:{r2_score(y_test,y_test_pred)}\")"
   ]
  },
  {
   "cell_type": "markdown",
   "metadata": {},
   "source": [
    "# Trying Decision tree on every feature : Power transformer (also normalizes) : same score as robust scaler"
   ]
  },
  {
   "cell_type": "code",
   "execution_count": 230,
   "metadata": {},
   "outputs": [
    {
     "name": "stdout",
     "output_type": "stream",
     "text": [
      "RMSE of the train set:15.367966101816167\n",
      "R2 SCORE of the train set:0.8251584424966962\n",
      "RMSE of the test set:16.928244075591266\n",
      "R2 SCORE of the test set:0.7728151817263731\n"
     ]
    },
    {
     "name": "stderr",
     "output_type": "stream",
     "text": [
      "C:\\Users\\Marianne\\Anaconda3\\lib\\site-packages\\sklearn\\preprocessing\\data.py:2778: RuntimeWarning: divide by zero encountered in log\n",
      "  loglike = -n_samples / 2 * np.log(x_trans.var())\n"
     ]
    }
   ],
   "source": [
    "from sklearn.preprocessing import PowerTransformer\n",
    "\n",
    "scaler = PowerTransformer()\n",
    "X_train_std = scaler.fit_transform(X_train)\n",
    "X_test_std = scaler.transform(X_test)\n",
    "tree = DecisionTreeRegressor(max_depth=3)\n",
    "tree.fit(X_train_std, y_train)\n",
    "y_train_pred = tree.predict(X_train_std)\n",
    "y_test_pred = tree.predict(X_test_std)\n",
    "\n",
    "print(f\"RMSE of the train set:{mean_squared_error(y_train,y_train_pred)}\")\n",
    "print(f\"R2 SCORE of the train set:{r2_score(y_train,y_train_pred)}\")\n",
    "print(f\"RMSE of the test set:{mean_squared_error(y_test,y_test_pred)}\")\n",
    "print(f\"R2 SCORE of the test set:{r2_score(y_test,y_test_pred)}\")\n"
   ]
  },
  {
   "cell_type": "markdown",
   "metadata": {},
   "source": [
    "# Trying Decision tree on every feature : standard scale"
   ]
  },
  {
   "cell_type": "code",
   "execution_count": 227,
   "metadata": {},
   "outputs": [
    {
     "name": "stdout",
     "output_type": "stream",
     "text": [
      "RMSE of the train set:15.367966101816167\n",
      "R2 SCORE of the train set:0.8251584424966962\n",
      "RMSE of the test set:19.107306539548826\n",
      "R2 SCORE of the test set:0.7435711616336519\n"
     ]
    },
    {
     "name": "stderr",
     "output_type": "stream",
     "text": [
      "C:\\Users\\Marianne\\Anaconda3\\lib\\site-packages\\sklearn\\preprocessing\\data.py:625: DataConversionWarning: Data with input dtype int64, float64 were all converted to float64 by StandardScaler.\n",
      "  return self.partial_fit(X, y)\n",
      "C:\\Users\\Marianne\\Anaconda3\\lib\\site-packages\\sklearn\\base.py:462: DataConversionWarning: Data with input dtype int64, float64 were all converted to float64 by StandardScaler.\n",
      "  return self.fit(X, **fit_params).transform(X)\n",
      "C:\\Users\\Marianne\\Anaconda3\\lib\\site-packages\\ipykernel_launcher.py:3: DataConversionWarning: Data with input dtype int64, float64 were all converted to float64 by StandardScaler.\n",
      "  This is separate from the ipykernel package so we can avoid doing imports until\n"
     ]
    }
   ],
   "source": [
    "scaler = StandardScaler()\n",
    "X_train_std = scaler.fit_transform(X_train)\n",
    "X_test_std = scaler.transform(X_test)\n",
    "tree = DecisionTreeRegressor(max_depth=3)\n",
    "tree.fit(X_train_std, y_train)\n",
    "y_train_pred = tree.predict(X_train_std)\n",
    "y_test_pred = tree.predict(X_test_std)\n",
    "print(f\"RMSE of the train set:{mean_squared_error(y_train,y_train_pred)}\")\n",
    "print(f\"R2 SCORE of the train set:{r2_score(y_train,y_train_pred)}\")\n",
    "print(f\"RMSE of the test set:{mean_squared_error(y_test,y_test_pred)}\")\n",
    "print(f\"R2 SCORE of the test set:{r2_score(y_test,y_test_pred)}\")\n"
   ]
  },
  {
   "cell_type": "markdown",
   "metadata": {},
   "source": [
    "# Plotting the validation curve"
   ]
  },
  {
   "cell_type": "code",
   "execution_count": 308,
   "metadata": {},
   "outputs": [
    {
     "name": "stderr",
     "output_type": "stream",
     "text": [
      "C:\\Users\\Marianne\\Anaconda3\\lib\\site-packages\\sklearn\\model_selection\\_split.py:2053: FutureWarning: You should specify a value for 'cv' instead of relying on the default value. The default value will change from 3 to 5 in version 0.22.\n",
      "  warnings.warn(CV_WARNING, FutureWarning)\n"
     ]
    },
    {
     "name": "stdout",
     "output_type": "stream",
     "text": [
      "[[0.74882071 0.66116976 0.875403  ]\n",
      " [0.74882071 0.66116976 0.875403  ]\n",
      " [0.74882071 0.66116975 0.875403  ]\n",
      " [0.74882056 0.66116963 0.87540298]\n",
      " [0.74881551 0.66116535 0.8754022 ]\n",
      " [0.74866437 0.66102736 0.87537881]\n",
      " [0.74636254 0.65819569 0.87501562]\n",
      " [0.73911847 0.64279159 0.87353395]\n",
      " [0.73338701 0.62612971 0.86362406]\n",
      " [0.72337228 0.61533948 0.78968411]]\n",
      "[[ 0.58391109  0.53248501 -5.86891506]\n",
      " [ 0.58392501  0.53248763 -5.86854902]\n",
      " [ 0.5840084   0.53250337 -5.86635601]\n",
      " [ 0.58450574  0.53259745 -5.85325762]\n",
      " [ 0.58739853  0.53315183 -5.77643428]\n",
      " [ 0.60199461  0.53616007 -5.36976126]\n",
      " [ 0.6405647   0.54697716 -4.00220828]\n",
      " [ 0.65760611  0.55726113 -2.33909285]\n",
      " [ 0.65217515  0.54360069 -1.02744694]\n",
      " [ 0.62613321  0.47038977  0.12814003]]\n"
     ]
    }
   ],
   "source": [
    "X = df.loc[:,df.columns.isin(['CRIM','ZN','INDUS','CHAS','NOX','RM','AGE','DIS','RAD','TAX','PTRATIO','B','LSTAT'])]\n",
    "y = df['MEDV'].values\n",
    "\n",
    "from sklearn.linear_model import Ridge\n",
    "np.random.seed(0)\n",
    "param_name = \"alpha\"\n",
    "param_range = np.logspace(-5, 2, 10)\n",
    "np.random.seed(0)\n",
    "indices = np.arange(y.shape[0])\n",
    "np.random.shuffle(indices)\n",
    "X_cv, y_cv = X.values[indices], y[indices]\n",
    "\n",
    "# Calculate accuracy on training and test set using range of parameter values\n",
    "train_scores, test_scores = validation_curve(Ridge(), \n",
    "                                             X_cv, \n",
    "                                             y_cv, \n",
    "                                             param_name=\"n_estimators\", \n",
    "                                             param_range=param_range,\n",
    "                                             n_jobs=-1)\n",
    "print(train_scores)\n",
    "print(test_scores)\n",
    "\n",
    "train_mean = np.mean(train_scores, axis=1)\n",
    "train_std = np.std(train_scores, axis=1)\n",
    "\n",
    "test_mean = np.mean(test_scores, axis=1)\n",
    "test_std = np.std(test_scores, axis=1)"
   ]
  },
  {
   "cell_type": "code",
   "execution_count": null,
   "metadata": {},
   "outputs": [],
   "source": [
    "plt.figure(figsize=(10,8))\n",
    "plt.plot(param_range, train_mean,\n",
    "         color='blue', marker='o',\n",
    "         markersize=5, label='training accuracy')\n",
    "plt.fill_between(param_range, train_mean + train_std,\n",
    "                 train_mean - train_std, alpha=0.15,\n",
    "                 color='blue')\n",
    "plt.plot(param_range, test_mean,\n",
    "         color='green', linestyle='--',\n",
    "         marker='s', markersize=5,\n",
    "         label='validation accuracy')\n",
    "plt.fill_between(param_range,\n",
    "                 test_mean + test_std,\n",
    "                 test_mean - test_std,\n",
    "                 alpha=0.15, color='green')\n",
    "plt.grid()\n",
    "plt.xscale('log')\n",
    "plt.legend(loc='lower right')\n",
    "plt.xlabel('Parameter alpha')\n",
    "plt.ylabel('Accuracy')\n",
    "#plt.ylim([0.8, 1.0])\n",
    "plt.show()"
   ]
  },
  {
   "cell_type": "code",
   "execution_count": 340,
   "metadata": {},
   "outputs": [],
   "source": [
    "import numpy as np\n",
    "import matplotlib.pyplot as plt\n",
    "from sklearn.datasets import load_boston\n",
    "from sklearn.linear_model import Ridge\n",
    "from sklearn.model_selection import learning_curve\n",
    "from sklearn.model_selection import ShuffleSplit\n",
    "\n",
    "def plot_learning_curve(estimator, title, X, y, ylim=None, cv=None,\n",
    "                        n_jobs=1, train_sizes=np.linspace(.1, 1.0, 5)):\n",
    "    \"\"\"\n",
    "    Generate a simple plot of the test and training learning curve.\n",
    "\n",
    "    Parameters\n",
    "    ----------\n",
    "    estimator : object type that implements the \"fit\" and \"predict\" methods\n",
    "        An object of that type which is cloned for each validation.\n",
    "\n",
    "    title : string\n",
    "        Title for the chart.\n",
    "\n",
    "    X : array-like, shape (n_samples, n_features)\n",
    "        Training vector, where n_samples is the number of samples and\n",
    "        n_features is the number of features.\n",
    "\n",
    "    y : array-like, shape (n_samples) or (n_samples, n_features), optional\n",
    "        Target relative to X for classification or regression;\n",
    "        None for unsupervised learning.\n",
    "\n",
    "    ylim : tuple, shape (ymin, ymax), optional\n",
    "        Defines minimum and maximum yvalues plotted.\n",
    "\n",
    "    cv : int, cross-validation generator or an iterable, optional\n",
    "        Determines the cross-validation splitting strategy.\n",
    "        Possible inputs for cv are:\n",
    "          - None, to use the default 3-fold cross-validation,\n",
    "          - integer, to specify the number of folds.\n",
    "          - An object to be used as a cross-validation generator.\n",
    "          - An iterable yielding train/test splits.\n",
    "\n",
    "        For integer/None inputs, if ``y`` is binary or multiclass,\n",
    "        :class:`StratifiedKFold` used. If the estimator is not a classifier\n",
    "        or if ``y`` is neither binary nor multiclass, :class:`KFold` is used.\n",
    "\n",
    "        Refer :ref:`User Guide <cross_validation>` for the various\n",
    "        cross-validators that can be used here.\n",
    "\n",
    "    n_jobs : integer, optional\n",
    "        Number of jobs to run in parallel (default 1).\n",
    "    \"\"\"\n",
    "    plt.figure(figsize=(10, 8))\n",
    "    plt.title(title)\n",
    "    if ylim is not None:\n",
    "        plt.ylim(*ylim)\n",
    "    plt.xlabel(\"Training examples\")\n",
    "    plt.ylabel(\"Score\")\n",
    "    train_sizes, train_scores, test_scores = learning_curve(\n",
    "        estimator, X, y, cv=cv, n_jobs=n_jobs, train_sizes=train_sizes)\n",
    "    train_scores_mean = np.mean(train_scores, axis=1)\n",
    "    train_scores_std = np.std(train_scores, axis=1)\n",
    "    test_scores_mean = np.mean(test_scores, axis=1)\n",
    "    test_scores_std = np.std(test_scores, axis=1)\n",
    "    plt.grid()\n",
    "\n",
    "    plt.fill_between(train_sizes, train_scores_mean - train_scores_std,\n",
    "                     train_scores_mean + train_scores_std, alpha=0.1,\n",
    "                     color=\"r\")\n",
    "    plt.fill_between(train_sizes, test_scores_mean - test_scores_std,\n",
    "                     test_scores_mean + test_scores_std, alpha=0.1, color=\"g\")\n",
    "    plt.plot(train_sizes, train_scores_mean, 'o-', color=\"r\",\n",
    "             label=\"Training score\")\n",
    "    plt.plot(train_sizes, test_scores_mean, 'o-', color=\"g\",\n",
    "             label=\"Cross-validation score\")\n",
    "\n",
    "    plt.legend(loc=\"best\")\n",
    "    return plt"
   ]
  },
  {
   "cell_type": "code",
   "execution_count": 341,
   "metadata": {},
   "outputs": [
    {
     "data": {
      "image/png": "[encoded data removed]",
      "text/plain": [
       "<matplotlib.figure.Figure at 0xc1eadd8>"
      ]
     },
     "metadata": {},
     "output_type": "display_data"
    }
   ],
   "source": [
    "title = \"Learning Curves (Ridge Regression)\"\n",
    "\n",
    "# Cross validation with 100 iterations to get smoother mean test and train\n",
    "# score curves, each time with 20% data randomly selected as a validation set.\n",
    "\n",
    "cv = ShuffleSplit(n_splits=100, test_size=0.2, random_state=0)\n",
    "estimator = Ridge()\n",
    "plot_learning_curve(estimator, title, X_cv, y_cv, cv=cv, n_jobs=4)\n",
    "plt.show()"
   ]
  },
  {
   "cell_type": "code",
   "execution_count": 345,
   "metadata": {},
   "outputs": [
    {
     "name": "stderr",
     "output_type": "stream",
     "text": [
      "C:\\Users\\Marianne\\Anaconda3\\lib\\site-packages\\sklearn\\model_selection\\_split.py:2053: FutureWarning: You should specify a value for 'cv' instead of relying on the default value. The default value will change from 3 to 5 in version 0.22.\n",
      "  warnings.warn(CV_WARNING, FutureWarning)\n"
     ]
    },
    {
     "name": "stdout",
     "output_type": "stream",
     "text": [
      "[[0.92708259 0.8236051  0.89932617]\n",
      " [0.94439283 0.94456901 0.94252846]\n",
      " [0.96610242 0.94521579 0.96189461]\n",
      " [0.97111414 0.96460445 0.96269149]\n",
      " [0.97185666 0.97083632 0.97027509]\n",
      " [0.97799988 0.96929994 0.96970072]\n",
      " [0.97153545 0.97667507 0.97406164]\n",
      " [0.97386815 0.97568552 0.97363917]\n",
      " [0.97495264 0.97883397 0.97534814]\n",
      " [0.981393   0.98217813 0.97561598]\n",
      " [0.98252039 0.97241491 0.97450052]\n",
      " [0.98295037 0.97972995 0.97641392]\n",
      " [0.9792643  0.97741523 0.97674961]\n",
      " [0.98267456 0.97858205 0.97680119]\n",
      " [0.98210373 0.97464356 0.97389342]\n",
      " [0.97864482 0.98246738 0.97275805]\n",
      " [0.9801889  0.98202386 0.97842118]\n",
      " [0.98004532 0.98040757 0.97531647]\n",
      " [0.98015139 0.98092828 0.9728823 ]\n",
      " [0.98041399 0.97984897 0.97921115]\n",
      " [0.98007989 0.98082059 0.97929835]\n",
      " [0.9805029  0.98088575 0.97947767]\n",
      " [0.97962001 0.98356808 0.97735755]\n",
      " [0.97921486 0.98306688 0.97415315]\n",
      " [0.98423213 0.98263089 0.97778237]\n",
      " [0.98171849 0.98222019 0.97987772]\n",
      " [0.98210179 0.98009841 0.97938465]\n",
      " [0.98420638 0.98192376 0.97755293]\n",
      " [0.98088095 0.98014442 0.97829816]\n",
      " [0.98219086 0.97840643 0.97731349]\n",
      " [0.98221629 0.98084302 0.97814656]\n",
      " [0.98168956 0.98176884 0.97783893]\n",
      " [0.98191942 0.98145973 0.97870821]\n",
      " [0.98328646 0.98305828 0.97830714]\n",
      " [0.982172   0.98258952 0.9774568 ]\n",
      " [0.98183435 0.9808272  0.97746178]\n",
      " [0.98189405 0.98312939 0.97763737]\n",
      " [0.98103318 0.98220114 0.97748501]\n",
      " [0.98262785 0.98130322 0.9768432 ]\n",
      " [0.981765   0.98338486 0.97796651]\n",
      " [0.98274114 0.98441819 0.97942061]\n",
      " [0.98310351 0.98304191 0.97786114]\n",
      " [0.98214567 0.98229357 0.97684507]\n",
      " [0.98236473 0.981809   0.97907249]\n",
      " [0.9823506  0.98276917 0.97754076]\n",
      " [0.98267225 0.98018506 0.9776847 ]\n",
      " [0.98211245 0.98128478 0.97792647]\n",
      " [0.98323161 0.9804039  0.97631325]\n",
      " [0.98246139 0.98188992 0.97734178]\n",
      " [0.98253105 0.98328628 0.97916017]\n",
      " [0.98125615 0.98251975 0.97854582]\n",
      " [0.98229378 0.98476196 0.97461456]\n",
      " [0.98165432 0.98124892 0.98050439]\n",
      " [0.981911   0.98285902 0.97932646]\n",
      " [0.98300078 0.98177228 0.97868216]\n",
      " [0.98170538 0.98103311 0.97776348]\n",
      " [0.98263684 0.98193857 0.97937353]\n",
      " [0.98240065 0.9825816  0.98002746]\n",
      " [0.98190362 0.98198032 0.97667943]\n",
      " [0.98278663 0.9842278  0.98014625]\n",
      " [0.98313274 0.98340676 0.97761604]\n",
      " [0.98457278 0.98240049 0.97885398]\n",
      " [0.98329271 0.98229835 0.97773296]\n",
      " [0.98222314 0.98224636 0.97609715]\n",
      " [0.98336247 0.98135271 0.978289  ]\n",
      " [0.9828948  0.98274241 0.97505999]\n",
      " [0.98288108 0.98228208 0.97816622]\n",
      " [0.98222327 0.98261567 0.9789148 ]\n",
      " [0.98155868 0.98204093 0.98056974]\n",
      " [0.98331556 0.98249836 0.97668591]\n",
      " [0.98250311 0.98260958 0.97904907]\n",
      " [0.98243758 0.98275498 0.97569664]\n",
      " [0.9810129  0.98224719 0.9783699 ]\n",
      " [0.9834462  0.98310683 0.97817787]\n",
      " [0.98404487 0.98254266 0.9772113 ]\n",
      " [0.9835251  0.98500936 0.97948794]\n",
      " [0.98106208 0.98266545 0.9787405 ]\n",
      " [0.98385133 0.9831069  0.97830439]\n",
      " [0.981884   0.98292856 0.9777148 ]\n",
      " [0.98192897 0.98291699 0.97804098]\n",
      " [0.98224793 0.98413129 0.97848158]\n",
      " [0.980572   0.98395245 0.97728617]\n",
      " [0.9824955  0.98246993 0.97929268]\n",
      " [0.98096983 0.98306069 0.97929235]\n",
      " [0.98352796 0.98320844 0.97917614]\n",
      " [0.98224007 0.98208825 0.97779968]\n",
      " [0.98360125 0.9816499  0.97957484]\n",
      " [0.98373435 0.98272229 0.97901238]\n",
      " [0.98304042 0.98312065 0.97822652]\n",
      " [0.98358046 0.98205583 0.97752737]\n",
      " [0.98293249 0.9831112  0.97763296]\n",
      " [0.98297363 0.98315754 0.98012801]\n",
      " [0.98249391 0.98231191 0.97875192]\n",
      " [0.98246369 0.98266222 0.97788786]\n",
      " [0.98307262 0.98318322 0.98009949]\n",
      " [0.9811655  0.98356062 0.97841484]\n",
      " [0.98320433 0.9824916  0.97976285]\n",
      " [0.98354218 0.98305742 0.98015304]\n",
      " [0.98488952 0.98332527 0.97864058]\n",
      " [0.98453024 0.98216973 0.97899053]\n",
      " [0.983521   0.98122781 0.97863585]\n",
      " [0.98264508 0.98224251 0.97789253]\n",
      " [0.9819435  0.98404698 0.97915182]\n",
      " [0.98300995 0.98393247 0.97734999]\n",
      " [0.98140763 0.98212439 0.9777179 ]\n",
      " [0.98189458 0.98303097 0.97801975]\n",
      " [0.98340001 0.98326921 0.97995699]\n",
      " [0.98333974 0.98319392 0.9793268 ]\n",
      " [0.98346525 0.98227783 0.97810324]\n",
      " [0.98315619 0.98231251 0.97885869]\n",
      " [0.98264612 0.98224386 0.97877427]\n",
      " [0.98389339 0.98185174 0.97938899]\n",
      " [0.98402516 0.98274723 0.9773478 ]\n",
      " [0.98201688 0.98179193 0.97795066]\n",
      " [0.98234869 0.98404124 0.97889706]\n",
      " [0.98233175 0.98272316 0.97798273]\n",
      " [0.98274359 0.9834285  0.97838717]\n",
      " [0.98275667 0.98322586 0.97690644]\n",
      " [0.98360323 0.98208183 0.97810331]\n",
      " [0.98353373 0.98234705 0.9776855 ]\n",
      " [0.9837901  0.98273419 0.97886056]\n",
      " [0.98247486 0.98264542 0.97883632]\n",
      " [0.9816638  0.98329716 0.97898924]\n",
      " [0.98314788 0.9823621  0.97819445]\n",
      " [0.98323039 0.9832652  0.97846537]]\n",
      "[[0.65395894 0.63849328 0.71813685]\n",
      " [0.68923395 0.75346254 0.77161001]\n",
      " [0.79375794 0.85764335 0.81178234]\n",
      " [0.78830257 0.83493368 0.80757452]\n",
      " [0.84361106 0.82077517 0.79017299]\n",
      " [0.83028775 0.84031564 0.79129146]\n",
      " [0.81517992 0.8513074  0.8227266 ]\n",
      " [0.83000085 0.87240798 0.79128301]\n",
      " [0.82131602 0.8496898  0.82484821]\n",
      " [0.82750545 0.84835905 0.80663708]\n",
      " [0.80242154 0.85910304 0.80798252]\n",
      " [0.83169262 0.85651623 0.81357455]\n",
      " [0.77191351 0.85212352 0.81869223]\n",
      " [0.83965771 0.85510527 0.78680648]\n",
      " [0.82627258 0.85085378 0.8094527 ]\n",
      " [0.82120512 0.8681757  0.82333944]\n",
      " [0.80948365 0.85852337 0.82548779]\n",
      " [0.8198575  0.8646862  0.80740384]\n",
      " [0.7829676  0.85874772 0.80776816]\n",
      " [0.81838083 0.85773269 0.81196175]\n",
      " [0.8130885  0.86032009 0.83601056]\n",
      " [0.81450459 0.85866148 0.81644621]\n",
      " [0.82065846 0.85858688 0.81234101]\n",
      " [0.82112722 0.85362249 0.80829162]\n",
      " [0.80084897 0.85850389 0.80236793]\n",
      " [0.82716467 0.84967306 0.81615642]\n",
      " [0.82429417 0.85310615 0.81765999]\n",
      " [0.82651248 0.8587609  0.8149166 ]\n",
      " [0.82389338 0.86445911 0.80903113]\n",
      " [0.83162648 0.86596419 0.8167669 ]\n",
      " [0.82189283 0.85396098 0.8138868 ]\n",
      " [0.8130465  0.86286837 0.80972693]\n",
      " [0.81877273 0.85517116 0.80508843]\n",
      " [0.81087765 0.85700856 0.81859661]\n",
      " [0.82699842 0.86405654 0.81400179]\n",
      " [0.81597621 0.86176651 0.81049124]\n",
      " [0.83036133 0.86280488 0.81857669]\n",
      " [0.83225504 0.86417416 0.81734861]\n",
      " [0.82832279 0.85687233 0.82000399]\n",
      " [0.82420664 0.86426021 0.81751466]\n",
      " [0.82035545 0.8624385  0.80678541]\n",
      " [0.82434663 0.8623673  0.80985532]\n",
      " [0.81609188 0.86005323 0.82249369]\n",
      " [0.83193427 0.86464509 0.80982761]\n",
      " [0.81649173 0.85754422 0.81647602]\n",
      " [0.82104879 0.86271129 0.8159595 ]\n",
      " [0.8349394  0.85827413 0.83157665]\n",
      " [0.81224512 0.86179876 0.80898496]\n",
      " [0.81662753 0.85740611 0.82008161]\n",
      " [0.8169188  0.85352267 0.81854989]\n",
      " [0.8241789  0.86180644 0.81274315]\n",
      " [0.82176346 0.86187757 0.80899168]\n",
      " [0.80968204 0.86466641 0.82368404]\n",
      " [0.80480026 0.86447891 0.81623439]\n",
      " [0.82863616 0.85899099 0.81782158]\n",
      " [0.82347893 0.85858152 0.81964193]\n",
      " [0.81450268 0.86118608 0.81873754]\n",
      " [0.82573058 0.86072045 0.82635922]\n",
      " [0.82270097 0.85812815 0.80429267]\n",
      " [0.81733925 0.86095825 0.82638214]\n",
      " [0.82767369 0.86380148 0.82126591]\n",
      " [0.80909879 0.8644003  0.8147611 ]\n",
      " [0.8177752  0.86302949 0.82229024]\n",
      " [0.82038536 0.85785285 0.82399767]\n",
      " [0.81973875 0.86161396 0.81858172]\n",
      " [0.81884643 0.85827529 0.81970301]\n",
      " [0.83254624 0.85843085 0.81703128]\n",
      " [0.8306499  0.86327495 0.80950609]\n",
      " [0.8246851  0.86169367 0.81569638]\n",
      " [0.82945335 0.85724664 0.82568418]\n",
      " [0.82226674 0.8556871  0.81813987]\n",
      " [0.81355212 0.86570265 0.81750442]\n",
      " [0.82327271 0.86090317 0.81802044]\n",
      " [0.81635407 0.86285603 0.81753463]\n",
      " [0.81876755 0.86133207 0.82171308]\n",
      " [0.83278377 0.85569414 0.81936731]\n",
      " [0.8257709  0.86403995 0.81818703]\n",
      " [0.82557062 0.8678776  0.81651831]\n",
      " [0.83337715 0.8672244  0.81025587]\n",
      " [0.8222645  0.86168453 0.81955246]\n",
      " [0.82027791 0.86368302 0.82131995]\n",
      " [0.83006995 0.85743589 0.81734211]\n",
      " [0.82427915 0.86404595 0.81648428]\n",
      " [0.82610219 0.86865888 0.81817715]\n",
      " [0.82959518 0.86504308 0.81646532]\n",
      " [0.8256963  0.85994013 0.82044426]\n",
      " [0.82502163 0.86442138 0.82267616]\n",
      " [0.81142162 0.85998786 0.81442736]\n",
      " [0.82589383 0.85597883 0.80966248]\n",
      " [0.8238194  0.86485578 0.81880564]\n",
      " [0.82230901 0.86335065 0.81576628]\n",
      " [0.81833646 0.85922121 0.81023214]\n",
      " [0.8178833  0.85823665 0.81717019]\n",
      " [0.82363929 0.85933737 0.81626958]\n",
      " [0.81760699 0.86137945 0.81581943]\n",
      " [0.82249495 0.86404037 0.81297212]\n",
      " [0.82613271 0.86127961 0.82174672]\n",
      " [0.81340923 0.86533652 0.81061421]\n",
      " [0.8270695  0.85514936 0.81716684]\n",
      " [0.82226956 0.86372565 0.82168824]\n",
      " [0.82596531 0.86077875 0.81349268]\n",
      " [0.82273033 0.86493599 0.81289767]\n",
      " [0.82078794 0.86429493 0.81305307]\n",
      " [0.82633493 0.86489919 0.81384033]\n",
      " [0.81672582 0.85953819 0.81483623]\n",
      " [0.82308489 0.86763286 0.81933708]\n",
      " [0.83183274 0.86699786 0.8158382 ]\n",
      " [0.82313825 0.86381925 0.81547658]\n",
      " [0.81504695 0.86296169 0.81817357]\n",
      " [0.82066903 0.86074653 0.82076233]\n",
      " [0.81605706 0.86277791 0.81705895]\n",
      " [0.8268543  0.86298799 0.8256988 ]\n",
      " [0.82724746 0.86530104 0.81326263]\n",
      " [0.81818084 0.86185237 0.8204775 ]\n",
      " [0.81736175 0.86497296 0.81534503]\n",
      " [0.80904385 0.85983872 0.81521072]\n",
      " [0.82837639 0.86682557 0.82351922]\n",
      " [0.80387518 0.8634407  0.81298784]\n",
      " [0.82454835 0.85823439 0.81896875]\n",
      " [0.82603131 0.86088284 0.82216638]\n",
      " [0.82165579 0.86163821 0.80966314]\n",
      " [0.8180675  0.86519805 0.81342793]\n",
      " [0.8220477  0.86325257 0.82042703]\n",
      " [0.82507803 0.86795297 0.82157374]\n",
      " [0.82503933 0.86509625 0.82039978]]\n"
     ]
    }
   ],
   "source": [
    "from sklearn.ensemble import RandomForestRegressor\n",
    "param_name = \"n_estimators\"\n",
    "param_range = np.arange(1, 250, 2)\n",
    "np.random.seed(0)\n",
    "indices = np.arange(y.shape[0])\n",
    "np.random.shuffle(indices)\n",
    "X_std = pd.DataFrame(scaler.fit_transform(X))\n",
    "X_std.columns = X.columns\n",
    "X_cv, y_cv = X_std.values[indices], y[indices]\n",
    "\n",
    "# Calculate accuracy on training and test set using range of parameter values\n",
    "train_scores, test_scores = validation_curve(RandomForestRegressor(), \n",
    "                                             X_cv, \n",
    "                                             y_cv, \n",
    "                                             param_name=\"n_estimators\", \n",
    "                                             param_range=param_range,\n",
    "                                             n_jobs=-1)\n",
    "print(train_scores)\n",
    "print(test_scores)\n",
    "\n",
    "train_mean = np.mean(train_scores, axis=1)\n",
    "train_std = np.std(train_scores, axis=1)\n",
    "\n",
    "test_mean = np.mean(test_scores, axis=1)\n",
    "test_std = np.std(test_scores, axis=1)"
   ]
  },
  {
   "cell_type": "code",
   "execution_count": 346,
   "metadata": {},
   "outputs": [
    {
     "data": {
      "image/png": "[encoded data removed]",
      "text/plain": [
       "<matplotlib.figure.Figure at 0xc026630>"
      ]
     },
     "metadata": {},
     "output_type": "display_data"
    }
   ],
   "source": [
    "plt.figure(figsize=(10,8))\n",
    "plt.plot(param_range, train_mean,\n",
    "         color='blue', marker='o',\n",
    "         markersize=5, label='training accuracy')\n",
    "plt.fill_between(param_range, train_mean + train_std,\n",
    "                 train_mean - train_std, alpha=0.15,\n",
    "                 color='blue')\n",
    "plt.plot(param_range, test_mean,\n",
    "         color='green', linestyle='--',\n",
    "         marker='s', markersize=5,\n",
    "         label='validation accuracy')\n",
    "plt.fill_between(param_range,\n",
    "                 test_mean + test_std,\n",
    "                 test_mean - test_std,\n",
    "                 alpha=0.15, color='green')\n",
    "plt.grid()\n",
    "plt.legend(loc='lower right')\n",
    "plt.xlabel('number of trees')\n",
    "plt.ylabel('Accuracy')\n",
    "#plt.ylim([0.8, 1.0])\n",
    "plt.show()"
   ]
  },
  {
   "cell_type": "code",
   "execution_count": 360,
   "metadata": {},
   "outputs": [
    {
     "data": {
      "image/png": "[encoded data removed]",
      "text/plain": [
       "<matplotlib.figure.Figure at 0xc6ac160>"
      ]
     },
     "metadata": {},
     "output_type": "display_data"
    }
   ],
   "source": [
    "title = \"Learning Curves (Random forest Regression)\"\n",
    "\n",
    "# Cross validation with 100 iterations to get smoother mean test and train\n",
    "# score curves, each time with 20% data randomly selected as a validation set.\n",
    "\n",
    "cv = ShuffleSplit(n_splits=100, test_size=0.2, random_state=0)\n",
    "estimator = RandomForestRegressor()\n",
    "plot_learning_curve(estimator, title, X, y, cv=cv, n_jobs=4)\n",
    "plt.show()"
   ]
  },
  {
   "cell_type": "code",
   "execution_count": 349,
   "metadata": {},
   "outputs": [
    {
     "name": "stdout",
     "output_type": "stream",
     "text": [
      "Fitting 3 folds for each of 100 candidates, totalling 300 fits\n"
     ]
    },
    {
     "name": "stderr",
     "output_type": "stream",
     "text": [
      "[Parallel(n_jobs=-1)]: Using backend LokyBackend with 4 concurrent workers.\n",
      "[Parallel(n_jobs=-1)]: Done  33 tasks      | elapsed:  2.1min\n",
      "[Parallel(n_jobs=-1)]: Done 154 tasks      | elapsed:  7.8min\n",
      "[Parallel(n_jobs=-1)]: Done 300 out of 300 | elapsed: 14.3min finished\n",
      "C:\\Users\\Marianne\\Anaconda3\\lib\\site-packages\\sklearn\\model_selection\\_search.py:841: DeprecationWarning: The default of the `iid` parameter will change from True to False in version 0.22 and will be removed in 0.24. This will change numeric results when test-set sizes are unequal.\n",
      "  DeprecationWarning)\n"
     ]
    },
    {
     "data": {
      "text/plain": [
       "{'bootstrap': True,\n",
       " 'max_depth': 10,\n",
       " 'max_features': 'auto',\n",
       " 'min_samples_leaf': 4,\n",
       " 'min_samples_split': 5,\n",
       " 'n_estimators': 200}"
      ]
     },
     "execution_count": 349,
     "metadata": {},
     "output_type": "execute_result"
    }
   ],
   "source": [
    "from sklearn.model_selection import RandomizedSearchCV\n",
    "\n",
    "from sklearn.model_selection import RandomizedSearchCV\n",
    "# Number of trees in random forest\n",
    "n_estimators = [int(x) for x in np.linspace(start = 200, stop = 2000, num = 10)]\n",
    "# Number of features to consider at every split\n",
    "max_features = ['auto', 'sqrt']\n",
    "# Maximum number of levels in tree\n",
    "max_depth = [int(x) for x in np.linspace(10, 110, num = 11)]\n",
    "max_depth.append(None)\n",
    "# Minimum number of samples required to split a node\n",
    "min_samples_split = [2, 5, 10]\n",
    "# Minimum number of samples required at each leaf node\n",
    "min_samples_leaf = [1, 2, 4]\n",
    "# Method of selecting samples for training each tree\n",
    "bootstrap = [True, False]\n",
    "# Create the random grid\n",
    "random_grid = {'n_estimators': n_estimators,\n",
    "               'max_features': max_features,\n",
    "               'max_depth': max_depth,\n",
    "               'min_samples_split': min_samples_split,\n",
    "               'min_samples_leaf': min_samples_leaf,\n",
    "               'bootstrap': bootstrap}\n",
    "\n",
    "rf = RandomForestRegressor()\n",
    "rf_random = RandomizedSearchCV(estimator = rf, param_distributions = random_grid, n_iter = 100, cv = 3, verbose=2, random_state=42, n_jobs = -1)\n",
    "# Fit the random search model\n",
    "rf_random.fit(X_std, y)\n",
    "rf_random.best_params_\n"
   ]
  },
  {
   "cell_type": "code",
   "execution_count": null,
   "metadata": {},
   "outputs": [],
   "source": [
    "tree_params = {\"max_depth\": [10,13,5],\n",
    "              \"n_estimators\": [100,200,210,220,230,240,250]}  # Parameters for random forests\n",
    "# Auxiliary parameters\n",
    "gs_params = {\"cv\": 3, \"n_jobs\": -1, \"verbose\": 1}\n"
   ]
  },
  {
   "cell_type": "code",
   "execution_count": null,
   "metadata": {},
   "outputs": [],
   "source": [
    "for i in range(15):\n",
    "\n",
    "    from sklearn.ensemble import RandomForestClassifier, GradientBoostingClassifier\n",
    "    from sklearn.linear_model import LogisticRegression\n",
    "    from sklearn.model_selection import GridSearchCV\n",
    "\n",
    "    scores = []\n",
    "    for name, clf, params in [\n",
    "                              (\"Random forest\", RandomForestClassifier(), tree_params),]:\n",
    "        grid = GridSearchCV(estimator=clf, param_grid=params, **gs_params)\n",
    "        grid.fit(X_train, y_train)\n",
    "        scores.append((name, grid.score(X_test, y_test), grid.best_params_))\n",
    "    \n",
    "    for name, score, params in scores:\n",
    "        print(\"Score {0}: {1:0.2f}\\t\".format(name, score), params)"
   ]
  }
 ],
 "metadata": {
  "kernelspec": {
   "display_name": "Python 3",
   "language": "python",
   "name": "python3"
  },
  "language_info": {
   "codemirror_mode": {
    "name": "ipython",
    "version": 3
   },
   "file_extension": ".py",
   "mimetype": "text/x-python",
   "name": "python",
   "nbconvert_exporter": "python",
   "pygments_lexer": "ipython3",
   "version": "3.6.4"
  }
 },
 "nbformat": 4,
 "nbformat_minor": 2
}
